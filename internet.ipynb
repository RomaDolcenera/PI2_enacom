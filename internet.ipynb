{
 "cells": [
  {
   "cell_type": "markdown",
   "metadata": {},
   "source": [
    "Trabajo sobre el url otorgado de ENEACOM, para extraer cada pagina del archivo, transformarla y guardarla en un nuevo csv."
   ]
  },
  {
   "cell_type": "code",
   "execution_count": 1,
   "metadata": {},
   "outputs": [],
   "source": [
    "import pandas as pd\n",
    "import os"
   ]
  },
  {
   "cell_type": "code",
   "execution_count": null,
   "metadata": {},
   "outputs": [],
   "source": [
    "file_path = 'https://indicadores.enacom.gob.ar/Files/Datos_Abiertos/Internet.xlsx'\n",
    "\n",
    "# Lista de los nombres de las hojas\n",
    "sheet_names = [\n",
    "    'Acc_vel_loc_sinrangos', 'Velocidad_sin_Rangos', 'Accesos_tecnologia_localidad', \n",
    "    'Velocidad % por prov', 'Totales VMD', 'Totales Accesos Por Tecnología', \n",
    "    'Accesos Por Tecnología', 'Penetración-poblacion', 'Penetracion-hogares', \n",
    "    'Penetracion-totales', 'Totales Accesos por velocidad', 'Accesos por velocidad', \n",
    "    'Dial-BAf', 'Totales Dial-BAf', 'Ingresos '\n",
    "]\n",
    "\n",
    "# Leer el archivo Excel\n",
    "data_frames = pd.read_excel(file_path, sheet_name=sheet_names)\n",
    "\n",
    "# Crear la carpeta si no existe\n",
    "output_folder = 'DatasetsObligatorios'\n",
    "os.makedirs(output_folder, exist_ok=True)\n",
    "\n",
    "# Guardar cada DataFrame en un archivo CSV\n",
    "for sheet_name in sheet_names:\n",
    "    df = data_frames[sheet_name]\n",
    "    output_path = os.path.join(output_folder, f\"{sheet_name}.csv\")\n",
    "    df.to_csv(output_path, index=False)\n",
    "\n",
    "# Acceder a un DataFrame específico y corroborar su funcionalidad\n",
    "df_acc_vel_loc_sinrangos = data_frames['Acc_vel_loc_sinrangos']\n",
    "print(df_acc_vel_loc_sinrangos.head())"
   ]
  },
  {
   "cell_type": "code",
   "execution_count": null,
   "metadata": {},
   "outputs": [],
   "source": []
  }
 ],
 "metadata": {
  "kernelspec": {
   "display_name": "Python 3",
   "language": "python",
   "name": "python3"
  },
  "language_info": {
   "codemirror_mode": {
    "name": "ipython",
    "version": 3
   },
   "file_extension": ".py",
   "mimetype": "text/x-python",
   "name": "python",
   "nbconvert_exporter": "python",
   "pygments_lexer": "ipython3",
   "version": "3.12.2"
  }
 },
 "nbformat": 4,
 "nbformat_minor": 2
}
